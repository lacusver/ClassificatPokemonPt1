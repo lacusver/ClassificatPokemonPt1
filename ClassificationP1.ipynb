{
  "nbformat": 4,
  "nbformat_minor": 0,
  "metadata": {
    "colab": {
      "name": "ClassificationP1.ipynb",
      "provenance": [],
      "collapsed_sections": [],
      "toc_visible": true
    },
    "kernelspec": {
      "name": "python3",
      "display_name": "Python 3"
    },
    "accelerator": "GPU"
  },
  "cells": [
    {
      "cell_type": "markdown",
      "metadata": {
        "id": "6G1i61HZXOVv",
        "colab_type": "text"
      },
      "source": [
        "# Классификация покемонов часть 1\n",
        "![alt text](https://giknutye.ru/wp-content/uploads/2016/08/chto-za-pokemon.jpg)\n",
        "\n",
        "\n",
        "## Как загрузить колллаб на свой гугл диск\n",
        "\n",
        "Чтобы иметь возможность запустить блоки кода в Google Colab, вам необходимо сохранить его на своем Google Disk.\n",
        "Нажмите на вкладку File в левом верхнем углу, у вас откроется окно с различными пунктами, как видно на картинке ниже. Выберите пункт сохранить копию на диске (Save a copy in Drive).  \n",
        "\n",
        "![alt text](https://sun2.is74.userapi.com/XPz5mAsxV4dq9DaQummKA-BUZO1zoa6yX5cj8w/Wdnxs_GHtv8.jpg)\n",
        "\n",
        "У вас должна автоматически открыться новая вкладка с сохраненной копией Google Colab.\n",
        "\n",
        "![alt text](https://sun1.is74.userapi.com/qheclDwr9RphL3yXKsGjyEbrYeYbCzp_cpM9cg/bMUYV8loGc4.jpg)\n",
        "\n",
        "Нажмите на вкладку Edit и выберите пункт Notebook settings. \n",
        "\n",
        "![alt text](https://sun1.is74.userapi.com/vSOJHyGKJFg0SO_F6z9y3lwRSN5-e8Uc7CC9xQ/E-Q6EeGtmNQ.jpg)\n",
        "\n",
        "Убедитесь, что у вас выбрано устройсво GPU.\n",
        "\n",
        "![alt text](https://sun1.is74.userapi.com/5tLEM9N4hWVdbBNbBG88PaT8ByPR6va9hVpfdw/XcvHl6aKZs4.jpg)\n",
        "\n",
        "---\n",
        "## Что будем делать\n",
        "\n",
        "На этом занятии мы построим и обучим сверточную нейронную сеть, которая будет способна распознать Пикачу и Бульбазавра. \n",
        "\n",
        "\n",
        "![alt text](https://images11.popmeh.ru/upload/img_cache/683/6836c73ba072928c5295be20b70f95f6_fitted_800x3000.jpg)"
      ]
    },
    {
      "cell_type": "markdown",
      "metadata": {
        "id": "1ZsJ3iClciXK",
        "colab_type": "text"
      },
      "source": [
        "## Импорт библиотек\n",
        "Для начала загрузим все необходимые библиотеки, они понадобятся для построения и обучения нейронной сети. \n",
        "\n",
        "Numpy -  это библиотека, добавляющая поддержку больших многомерных массивов и матриц, вместе с большой библиотекой высокоуровневых математических функций для операций с этими массивами.\n",
        "\n",
        "Keras - открытая нейросетевая библиотека для оперативной работы с сетями глубокого обучения.\n",
        "\n",
        "Matplotlib - библиотека для визуализации данных.\n",
        "\n"
      ]
    },
    {
      "cell_type": "code",
      "metadata": {
        "id": "RMSOS-d7Qr2c",
        "colab_type": "code",
        "colab": {}
      },
      "source": [
        "import numpy as np\n",
        "import math\n",
        "import keras\n",
        "from keras import backend as K\n",
        "from keras.models import Sequential\n",
        "from keras.layers import Activation\n",
        "from keras.layers.core import Dense, Flatten\n",
        "from keras import optimizers\n",
        "from keras.metrics import categorical_crossentropy\n",
        "from keras.preprocessing.image import ImageDataGenerator\n",
        "from keras.layers.normalization import BatchNormalization\n",
        "from keras.layers.convolutional import *\n",
        "from keras.preprocessing import image\n",
        "from matplotlib import pyplot as plt\n",
        "from sklearn.metrics import confusion_matrix\n",
        "import itertools\n",
        "import matplotlib.pyplot as plt\n",
        "import os\n",
        "from zipfile import ZipFile\n",
        "from google.colab import files\n",
        "%matplotlib inline"
      ],
      "execution_count": null,
      "outputs": []
    },
    {
      "cell_type": "markdown",
      "metadata": {
        "id": "WuJ2_BmjeYUl",
        "colab_type": "text"
      },
      "source": [
        "## Загрузка данных\n",
        "Загрузим набор изображений (датасет) для обучения сверточной нейронной сети.\n",
        "\n",
        "Выберите иконку Files слева в вертикальном меню.\n",
        "\n",
        "![alt text](https://sun1.is74.userapi.com/kFOVcPGnc82bkA5zoKykCt3j2q6xMa9SfmSTMg/zs5A0wjhmRs.jpg)\n",
        "\n",
        "Нажмите на кнопку Upload, чтобы загрузить датасет **Pokemon_dataset_mini.zip** в Google Colab. [Ссылка на датасеты](https://drive.google.com/drive/folders/18vQ6tXnDm21mqn-02U-40jUvUaL1gYo9?usp=sharing)\n",
        "\n",
        "\n",
        "![alt text](https://sun2.is74.userapi.com/fDp8RuYK5Mp-ULMxV0WtUfUub4HH4QBDsu_vSg/A16VSk2vl5s.jpg)\n",
        "\n",
        "Поместить скачанный датасет необходимо в текущий каталог (где лежит папка sample_data)"
      ]
    },
    {
      "cell_type": "code",
      "metadata": {
        "id": "i4qFeWNSS97n",
        "colab_type": "code",
        "colab": {}
      },
      "source": [
        "#!! не забудьте изменить название датасета, который будете загружать\n",
        "fileName = 'Pokemon_dataset_mini.zip'\n",
        "ds = ZipFile(fileName)\n",
        "ds.extractall()\n",
        "os.remove(fileName)\n",
        "print('Extracted zip file ' + fileName)"
      ],
      "execution_count": null,
      "outputs": []
    },
    {
      "cell_type": "markdown",
      "metadata": {
        "id": "O-YG0shCfF-D",
        "colab_type": "text"
      },
      "source": [
        "## Препроцессинг\n",
        "Предварительно выполним предобработку полученного датасета, чтобы иметь возможность передать изображения нейроннной сети для ее обучения. \n",
        "\n",
        "Разобьём наш датасет на тренировочную, валидационную и тестовую выборки."
      ]
    },
    {
      "cell_type": "code",
      "metadata": {
        "id": "a3MwC4JeTD_O",
        "colab_type": "code",
        "colab": {}
      },
      "source": [
        "# !! не забудьте обновить пути\n",
        "train_path='Pokemon_dataset_mini/train/'\n",
        "valid_path='Pokemon_dataset_mini/valid/'\n",
        "test_path='Pokemon_dataset_mini/test/'\n",
        "\n",
        "# !!измените названия классов (как указаны в директориях)\n",
        "# !!например, если папки с именами car и bike --> classes=['car', 'bike']\n",
        "train_batches=ImageDataGenerator().flow_from_directory(train_path, target_size=(224,224), classes=['pikachu','bulbasaur'], batch_size=20)\n",
        "valid_batches=ImageDataGenerator().flow_from_directory(valid_path, target_size=(224,224), classes=['pikachu','bulbasaur'], batch_size=10)\n",
        "test_batches=ImageDataGenerator().flow_from_directory(test_path, target_size=(224,224), classes=['pikachu', 'bulbasaur'], batch_size=20)\n",
        "label_map = (train_batches.class_indices)"
      ],
      "execution_count": null,
      "outputs": []
    },
    {
      "cell_type": "code",
      "metadata": {
        "id": "LoDvVCjDCyDD",
        "colab_type": "code",
        "colab": {}
      },
      "source": [
        "# Данная функция преобразует лейблы (индексы) в имена классов\n",
        "def get_class_names(label):\n",
        "  for name, index in label_map.items():\n",
        "    if label==index:\n",
        "      return name"
      ],
      "execution_count": null,
      "outputs": []
    },
    {
      "cell_type": "markdown",
      "metadata": {
        "id": "KUAIccG2jNlB",
        "colab_type": "text"
      },
      "source": [
        "## Визуализация датасета\n",
        "Мы можем визуализировать изображения из датасета. Для этого запуститим два следующих блока. \n"
      ]
    },
    {
      "cell_type": "code",
      "metadata": {
        "id": "R34ik5n2Tl2d",
        "colab_type": "code",
        "colab": {}
      },
      "source": [
        "def plots(ims, figsize=(12,6), rows=2, interp=False, titles=None):\n",
        "    if type(ims[0]) is np.ndarray:\n",
        "        ims= np.array(ims).astype(np.uint8)\n",
        "        if (ims.shape[-1]!=3):\n",
        "            ims=ims.transpose((0,2,3,1))\n",
        "    f=plt.figure(figsize=figsize)\n",
        "    cols=len(ims)//rows if len(ims)%2==0 else len(ims)//rows +1\n",
        "    for i in range(len(ims)):\n",
        "        sp=f.add_subplot(rows, cols, i+1)\n",
        "        sp.axis('Off')\n",
        "        if titles is not None:\n",
        "            sp.set_title(get_class_names(titles[i].argmax(axis=-1)), fontsize=12)\n",
        "        plt.imshow(ims[i], interpolation=None if interp else 'none')"
      ],
      "execution_count": null,
      "outputs": []
    },
    {
      "cell_type": "code",
      "metadata": {
        "id": "3ME4l4B6ToV8",
        "colab_type": "code",
        "colab": {}
      },
      "source": [
        "imgs, labels=next(train_batches)\n",
        "plots(imgs, titles=labels)"
      ],
      "execution_count": null,
      "outputs": []
    },
    {
      "cell_type": "markdown",
      "metadata": {
        "id": "29FVt7i0lKk8",
        "colab_type": "text"
      },
      "source": [
        "## Реализация сверточной нейронной сети\n",
        "Далее построим сверточную нейронную сеть, используя библиотеку Keras.\n",
        "\n",
        "Она будет включать в себя слои свертки Conv2D, полносвязанный слой и выходной."
      ]
    },
    {
      "cell_type": "code",
      "metadata": {
        "id": "c9Nw7qCSTqkk",
        "colab_type": "code",
        "colab": {}
      },
      "source": [
        "model = Sequential([\n",
        "    Conv2D(32, (3,3), activation='relu', padding='same', input_shape=(224,224,3)),\n",
        "    BatchNormalization(),\n",
        "    Conv2D(64, (3,3), activation='relu', padding='same'),\n",
        "    MaxPooling2D((2,2), padding='same'),\n",
        "    ##### задание 2 #####\n",
        "    Flatten(),\n",
        "    Dense(64, activation='relu'),\n",
        "    Dense(2, activation='softmax')\n",
        "])"
      ],
      "execution_count": null,
      "outputs": []
    },
    {
      "cell_type": "markdown",
      "metadata": {
        "id": "Qbx5RIieyIV4",
        "colab_type": "text"
      },
      "source": [
        "## *ЗАДАНИЯ*\n",
        "1. Во всех слоях замените функцию активации ***relu*** на ***sigmoid***, влияет ли это на результат?\n",
        "2. Добавьте еще один слой свертки (Conv2D) после \n",
        "```\n",
        "##### задание 2 #####\n",
        "```\n",
        "c количеством признаков равным 128 и слой пулинга (\n",
        "MaxPooling2D) с теми же параметрами, что в предыдущей свертки.\n",
        "\n"
      ]
    },
    {
      "cell_type": "markdown",
      "metadata": {
        "id": "bcl7ArPPouY9",
        "colab_type": "text"
      },
      "source": [
        "## Компиляция нейронной сети\n",
        "Скомпилируем нашу модель.\n",
        "\n",
        "В качестве алгоритма оптимизации скорости обучения возьмем *Adam* с коэффициентом скорости 0.0001.\n",
        "\n",
        "Функция потерь будет *categorical_crossentropy*, поскольку в нашем датасете несколько классов.\n",
        "\n",
        "В качестве метрики (оценки производительности нашей модели) возьмем метрику *accuracy* (вычисляет как часто предсказания совпадают с метками)."
      ]
    },
    {
      "cell_type": "code",
      "metadata": {
        "id": "kYl6Lst7TuSI",
        "colab_type": "code",
        "colab": {}
      },
      "source": [
        "model.compile(optimizers.Adam(lr=0.0001), loss='categorical_crossentropy', metrics=['accuracy'])"
      ],
      "execution_count": null,
      "outputs": []
    },
    {
      "cell_type": "markdown",
      "metadata": {
        "id": "fAjQeJAm26tW",
        "colab_type": "text"
      },
      "source": [
        "## *ЗАДАНИЯ*\n",
        "1. Измените значение коэффициента скорости обучения (***lr***), допустимые пределы *от 0 до 0.5*, оцените результат.\n",
        "2. Поменяйте алгоритм оптимизации с ***Adam*** на ***SGD***."
      ]
    },
    {
      "cell_type": "markdown",
      "metadata": {
        "id": "T8RW-YoepvOg",
        "colab_type": "text"
      },
      "source": [
        "## Обучение нейронной сети\n",
        "Запустим обучение нейронной сети.\n"
      ]
    },
    {
      "cell_type": "code",
      "metadata": {
        "id": "_9AjyoRITv-L",
        "colab_type": "code",
        "colab": {}
      },
      "source": [
        "steps_epoch=math.ceil(train_batches.n/train_batches.batch_size)\n",
        "valid_steps=math.ceil(valid_batches.n/valid_batches.batch_size)\n",
        "model.fit_generator(train_batches, steps_per_epoch=steps_epoch, \n",
        "                   validation_data=valid_batches, validation_steps=valid_steps, epochs=20, verbose=2)"
      ],
      "execution_count": null,
      "outputs": []
    },
    {
      "cell_type": "markdown",
      "metadata": {
        "id": "37kbyfLAp9g0",
        "colab_type": "text"
      },
      "source": [
        "## Визуализация тестового набора\n",
        "Отобразим подготовленный тестовый набор."
      ]
    },
    {
      "cell_type": "code",
      "metadata": {
        "id": "D_ywO6GaTxvR",
        "colab_type": "code",
        "colab": {}
      },
      "source": [
        "test_imgs, test_labels = next(test_batches)\n",
        "plots(test_imgs, titles=test_labels)"
      ],
      "execution_count": null,
      "outputs": []
    },
    {
      "cell_type": "markdown",
      "metadata": {
        "id": "Ay5BjzNhqG8g",
        "colab_type": "text"
      },
      "source": [
        "## Тестирование нейронной сети на наборе\n",
        "Выполним распознавание тестового набора"
      ]
    },
    {
      "cell_type": "code",
      "metadata": {
        "id": "jo-8bmbyT0II",
        "colab_type": "code",
        "colab": {}
      },
      "source": [
        "model.predict_generator(test_batches, steps=1, verbose=0)"
      ],
      "execution_count": null,
      "outputs": []
    },
    {
      "cell_type": "markdown",
      "metadata": {
        "id": "fj_DQDbid_mQ",
        "colab_type": "text"
      },
      "source": [
        "## Тестирование на одном изображении"
      ]
    },
    {
      "cell_type": "markdown",
      "metadata": {
        "id": "d7t5i0mZkQJm",
        "colab_type": "text"
      },
      "source": [
        "Функция для предобработки тестового изображения перед подачей на вход нейронной сети."
      ]
    },
    {
      "cell_type": "code",
      "metadata": {
        "id": "0AviiHILePwa",
        "colab_type": "code",
        "colab": {}
      },
      "source": [
        "def preprocess_test_image(path):\n",
        "  img = image.load_img(path, target_size=(224, 224))\n",
        "  x = image.img_to_array(img)\n",
        "  x = np.expand_dims(x, axis=0)\n",
        "  x_in=x/255.\n",
        "  plt.imshow(x_in[0])                           \n",
        "  plt.axis('off')\n",
        "  plt.show()\n",
        "  return x"
      ],
      "execution_count": null,
      "outputs": []
    },
    {
      "cell_type": "markdown",
      "metadata": {
        "id": "ekwQRyKZkbQj",
        "colab_type": "text"
      },
      "source": [
        "Загрузка тестового изображения локально, из компьютера в Google Colab. "
      ]
    },
    {
      "cell_type": "code",
      "metadata": {
        "id": "2PtH6gK1xXZP",
        "colab_type": "code",
        "colab": {}
      },
      "source": [
        "file_name=files.upload()"
      ],
      "execution_count": null,
      "outputs": []
    },
    {
      "cell_type": "markdown",
      "metadata": {
        "id": "ttQZdsppkvxU",
        "colab_type": "text"
      },
      "source": [
        "Запуск тестирования на входном изображении."
      ]
    },
    {
      "cell_type": "code",
      "metadata": {
        "id": "sEk5enZFdwpi",
        "colab_type": "code",
        "colab": {}
      },
      "source": [
        "img=preprocess_test_image(next(iter(file_name)))\n",
        "pred=model.predict(img)\n",
        "pred_classes = pred.argmax(axis=-1)\n",
        "name=get_class_names(pred_classes)\n",
        "print(name)"
      ],
      "execution_count": null,
      "outputs": []
    },
    {
      "cell_type": "markdown",
      "metadata": {
        "id": "FY93GL89ByA9",
        "colab_type": "text"
      },
      "source": [
        "## Задания первой части практики\n",
        "\n"
      ]
    },
    {
      "cell_type": "markdown",
      "metadata": {
        "id": "aBTILDq_GZpG",
        "colab_type": "text"
      },
      "source": [
        "### Задание на изменение параметров нейронной сети\n",
        "Вам необходимо будет выполнить задания после разделов ***Реализация сверточной нейронной сети*** и ***Компиляции нейронной сети***. \n",
        "\n",
        "После выполнения заданий, вам нужно будет прикрепить измененный Google Colab в курс на платформе. Для того чтобы скачать файл нажмите выберите File -> Download .ipynb.\n",
        "![alt text](https://sun2.is74.userapi.com/EqGA1cIb3fITkfwnoV0nLgYgEM4b0xzvz94t2A/_ksVBmhhzWU.jpg)\n"
      ]
    },
    {
      "cell_type": "markdown",
      "metadata": {
        "id": "ccd_T4HfHa4_",
        "colab_type": "text"
      },
      "source": [
        "### Задание на обучение нейронной сети на другом наборе данных\n",
        "\n",
        "Вам представлено на выбор три различных датасета, каждый включает в себя по два класса. Необходимо будет обучить сверточную нейронную сеть на любом наборе данных.\n",
        "\n",
        "[ссылка на датасеты](https://drive.google.com/drive/folders/1cQa73O8jHKVgL3kSYWPI4_36RImnWa9Q?usp=sharing)\n",
        "\n",
        "Вам необходимо будет проделать те же шаги по загрузке датасета, что и в начале и изменить код в некоторых местах.\n",
        "\n",
        "Блоки кода, в которых надо что-то поменять отмечены комментариями \n",
        "\n",
        "```\n",
        "#!!какой-то текст\n",
        "```\n",
        "\n",
        "\n",
        "\n"
      ]
    }
  ]
}